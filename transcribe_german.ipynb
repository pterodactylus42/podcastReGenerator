{
  "nbformat": 4,
  "nbformat_minor": 0,
  "metadata": {
    "colab": {
      "provenance": [],
      "include_colab_link": true
    },
    "kernelspec": {
      "name": "python3",
      "display_name": "Python 3"
    },
    "language_info": {
      "name": "python"
    }
  },
  "cells": [
    {
      "cell_type": "markdown",
      "metadata": {
        "id": "view-in-github",
        "colab_type": "text"
      },
      "source": [
        "<a href=\"https://colab.research.google.com/github/pterodactylus42/podcastReGenerator/blob/main/transcribe_german.ipynb\" target=\"_parent\"><img src=\"https://colab.research.google.com/assets/colab-badge.svg\" alt=\"Open In Colab\"/></a>"
      ]
    },
    {
      "cell_type": "markdown",
      "source": [
        "Audio-Bearbeitung"
      ],
      "metadata": {
        "id": "QtZ7YvrIYlN6"
      }
    },
    {
      "cell_type": "code",
      "source": [
        "!pip install SpeechRecognition"
      ],
      "metadata": {
        "colab": {
          "base_uri": "https://localhost:8080/"
        },
        "id": "hmoCSa46BcwD",
        "outputId": "21360cd2-965f-4fce-d21e-729cea2ed3ed"
      },
      "execution_count": 1,
      "outputs": [
        {
          "output_type": "stream",
          "name": "stdout",
          "text": [
            "Requirement already satisfied: SpeechRecognition in /usr/local/lib/python3.10/dist-packages (3.12.0)\n",
            "Requirement already satisfied: typing-extensions in /usr/local/lib/python3.10/dist-packages (from SpeechRecognition) (4.12.2)\n"
          ]
        }
      ]
    },
    {
      "cell_type": "code",
      "source": [
        "import os"
      ],
      "metadata": {
        "id": "rlwosh5Ek_JI"
      },
      "execution_count": 2,
      "outputs": []
    },
    {
      "cell_type": "code",
      "source": [
        "transcript_path = 'transcript.txt'\n",
        "\n",
        "try:\n",
        "    os.remove(transcript_path)\n",
        "except FileNotFoundError:\n",
        "    # doesn't exist\n",
        "    print(f\"{transcript_path} does not exist\")"
      ],
      "metadata": {
        "id": "acdRXWT7SxjC"
      },
      "execution_count": 3,
      "outputs": []
    },
    {
      "cell_type": "code",
      "execution_count": 4,
      "metadata": {
        "id": "sa01iUyiWN21"
      },
      "outputs": [],
      "source": [
        "import speech_recognition as sr\n",
        "\n",
        "def transcribe_audio(file_path):\n",
        "    recognizer = sr.Recognizer()\n",
        "    with sr.AudioFile(file_path) as source:\n",
        "        audio = recognizer.record(source)\n",
        "    try:\n",
        "        text = recognizer.recognize_google(audio, language='de-DE')\n",
        "        print(\"Transcript: {}\".format(text))\n",
        "        with open(transcript_path, 'a') as file:\n",
        "            file.write(text + \"\\n\")\n",
        "    except sr.UnknownValueError:\n",
        "        print(\"Google Speech Recognition could not understand audio\")\n",
        "    except sr.RequestError as e:\n",
        "        print(\"Could not request results from Google Speech Recognition service; {0}\".format(e))\n",
        "\n"
      ]
    },
    {
      "cell_type": "code",
      "source": [
        "# optional upload from your computer\n",
        "# from google.colab import files\n",
        "# uploaded = files.upload()"
      ],
      "metadata": {
        "id": "Ekxygr3gB_cT"
      },
      "execution_count": 5,
      "outputs": []
    },
    {
      "cell_type": "code",
      "source": [
        "# assign uploaded file to filename\n",
        "# for filename in uploaded.keys():\n",
        "#     print(f'User uploaded file \"{filename}\" with length {len(uploaded[filename])} bytes')"
      ],
      "metadata": {
        "id": "rseqcOOgG8P7"
      },
      "execution_count": 6,
      "outputs": []
    },
    {
      "cell_type": "code",
      "source": [
        "import requests\n",
        "\n",
        "url = 'https://yourfile.mp3'\n",
        "response = requests.get(url)\n",
        "\n",
        "filename = 'file.mp3'\n",
        "\n",
        "with open(filename, 'wb') as file:\n",
        "    file.write(response.content)\n",
        "\n",
        "print('Download complete!')"
      ],
      "metadata": {
        "colab": {
          "base_uri": "https://localhost:8080/"
        },
        "id": "FGrBtc2gxGuc",
        "outputId": "76d9c88b-dcd2-4fae-f2fe-7f9c0d9f5ab4"
      },
      "execution_count": 7,
      "outputs": [
        {
          "output_type": "stream",
          "name": "stdout",
          "text": [
            "Download complete!\n"
          ]
        }
      ]
    },
    {
      "cell_type": "code",
      "source": [
        "!pip install pydub"
      ],
      "metadata": {
        "colab": {
          "base_uri": "https://localhost:8080/"
        },
        "id": "TKEae2UPC6Vb",
        "outputId": "52fad181-41ac-44d6-82e8-afd4882dc72f"
      },
      "execution_count": 8,
      "outputs": [
        {
          "output_type": "stream",
          "name": "stdout",
          "text": [
            "Requirement already satisfied: pydub in /usr/local/lib/python3.10/dist-packages (0.25.1)\n"
          ]
        }
      ]
    },
    {
      "cell_type": "code",
      "source": [
        "from pydub import AudioSegment\n",
        "\n",
        "def convert_mp3_to_wav(mp3_file_path, wav_file_path):\n",
        "    # Load the MP3 file\n",
        "    audio = AudioSegment.from_mp3(mp3_file_path)\n",
        "\n",
        "    # Export as WAV\n",
        "    audio.export(wav_file_path, format=\"wav\")\n",
        "    print(f\"Successfully converted {mp3_file_path} to {wav_file_path}\")\n"
      ],
      "metadata": {
        "id": "h2voi3gXIba6"
      },
      "execution_count": 9,
      "outputs": []
    },
    {
      "cell_type": "code",
      "source": [
        "convert_mp3_to_wav(filename, \"output.wav\")"
      ],
      "metadata": {
        "colab": {
          "base_uri": "https://localhost:8080/"
        },
        "id": "L2LdnCp7Idly",
        "outputId": "6071c77b-da97-4b86-e3c2-5dcc777ceeed"
      },
      "execution_count": 10,
      "outputs": [
        {
          "output_type": "stream",
          "name": "stdout",
          "text": [
            "Successfully converted file.mp3 to output.wav\n"
          ]
        }
      ]
    },
    {
      "cell_type": "code",
      "source": [
        "def process_wav_in_chunks(audiofile, chunk_length_ms=60000):\n",
        "    # Load the WAV file\n",
        "    audio = AudioSegment.from_wav(audiofile)\n",
        "\n",
        "    # Calculate the number of chunks\n",
        "    num_chunks = len(audio) // chunk_length_ms\n",
        "    interleave = 3000\n",
        "\n",
        "    for i in range(num_chunks + 1):\n",
        "        start_time = i * chunk_length_ms\n",
        "        end_time = start_time + chunk_length_ms\n",
        "\n",
        "        interleave_start_time = start_time\n",
        "        if i > 0 :\n",
        "          interleave_start_time = start_time - interleave\n",
        "\n",
        "        print(f\"Processing chunk {i} of {num_chunks} from {interleave_start_time}ms to {end_time}ms\")\n",
        "        chunk = audio[interleave_start_time:end_time]\n",
        "        chunk.export(f\"chunk_{i}.wav\", format=\"wav\")\n",
        "        transcribe_audio(f\"chunk_{i}.wav\")\n",
        "\n",
        "    for i in range(num_chunks + 1):\n",
        "        try:\n",
        "            os.remove(f\"chunk_{i}.wav\")\n",
        "        except FileNotFoundError:\n",
        "            # doesn't exist\n",
        "            print(f\"chunk_{i}.wav does not exist\")\n",
        ""
      ],
      "metadata": {
        "id": "pr-SzMW2L1oS"
      },
      "execution_count": 11,
      "outputs": []
    },
    {
      "cell_type": "code",
      "source": [
        "process_wav_in_chunks(\"output.wav\")"
      ],
      "metadata": {
        "colab": {
          "base_uri": "https://localhost:8080/"
        },
        "id": "2OlmgoPxL5RJ",
        "outputId": "d9ecdee7-3414-4c75-a284-f3cfe39e1b36"
      },
      "execution_count": null,
      "outputs": [
        {
          "output_type": "stream",
          "name": "stdout",
          "text": [
            "Processing chunk 0 of 52 from 0ms to 60000ms\n",
            "Processing chunk 12 of 52 from 717000ms to 780000ms\n"
          ]
        }
      ]
    },
    {
      "cell_type": "code",
      "source": [
        "# Open the file in read mode and print its contents\n",
        "with open(transcript_path, 'r') as file:\n",
        "    content = file.read()\n",
        "    print(content)\n"
      ],
      "metadata": {
        "id": "-sXRxVhLTF9p"
      },
      "execution_count": null,
      "outputs": []
    },
    {
      "cell_type": "code",
      "source": [
        "def get_last_words(line):\n",
        "    words = line.split()\n",
        "    return words[-3:]"
      ],
      "metadata": {
        "id": "ZoVPCoJQu_kx"
      },
      "execution_count": null,
      "outputs": []
    },
    {
      "cell_type": "code",
      "source": [
        "def get_first_words(line):\n",
        "    words = line.split()\n",
        "    return words[:10]"
      ],
      "metadata": {
        "id": "RivuYW3xwzOl"
      },
      "execution_count": null,
      "outputs": []
    },
    {
      "cell_type": "code",
      "source": [
        "transcript_stripped_path = 'transcript_stripped.txt'\n",
        "\n",
        "try:\n",
        "    os.remove(transcript_stripped_path)\n",
        "except FileNotFoundError:\n",
        "    # doesn't exist\n",
        "    print(f\"{transcript_stripped_path} does not exist\")"
      ],
      "metadata": {
        "id": "pZg97DN35OF_"
      },
      "execution_count": null,
      "outputs": []
    },
    {
      "cell_type": "code",
      "source": [
        "# for each line, take the last token and find it at the beginning of the next line\n",
        "# the beginning of the line are the first 10 tokens\n",
        "# delete everything before the occurrence of the token in the next line\n",
        "# if the last token of the line is not found, search similarly with the preceding token\n",
        "# try this with the last three words of the previous line\n",
        "with open(transcript_path) as file_in:\n",
        "    lines = []\n",
        "    previousline = \"\"\n",
        "\n",
        "    for line in file_in:\n",
        "        # print('processing line ' + line)\n",
        "        lastwords = get_last_words(previousline)\n",
        "        firstwords = get_first_words(line)\n",
        "\n",
        "        for word in lastwords:\n",
        "            if firstwords.count(word) > 0 :\n",
        "                index = line.find(word)\n",
        "                line = line[index + len(word):]\n",
        "                # print('match on word : ' + word)\n",
        "                # print('resulting line : ' + line)\n",
        "\n",
        "        lines.append(line)\n",
        "        with open(transcript_stripped_path, 'a') as file:\n",
        "            file.write(line + \"\\n\")\n",
        "        # print('processed  line ' + line)\n",
        "\n",
        "        previousline = line\n",
        ""
      ],
      "metadata": {
        "id": "46cwCDlOYPk2"
      },
      "execution_count": null,
      "outputs": []
    },
    {
      "cell_type": "code",
      "source": [
        "# Open the file that is stripped from the overlapping words in read mode and print its contents\n",
        "with open(transcript_stripped_path, 'r') as file:\n",
        "    content = file.read()\n",
        "    print(content)"
      ],
      "metadata": {
        "id": "uoAHOkoW5xof"
      },
      "execution_count": null,
      "outputs": []
    }
  ]
}
