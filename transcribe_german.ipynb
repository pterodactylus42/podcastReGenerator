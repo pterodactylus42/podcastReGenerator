{
  "nbformat": 4,
  "nbformat_minor": 0,
  "metadata": {
    "colab": {
      "provenance": [],
      "include_colab_link": true
    },
    "kernelspec": {
      "name": "python3",
      "display_name": "Python 3"
    },
    "language_info": {
      "name": "python"
    }
  },
  "cells": [
    {
      "cell_type": "markdown",
      "metadata": {
        "id": "view-in-github",
        "colab_type": "text"
      },
      "source": [
        "<a href=\"https://colab.research.google.com/github/pterodactylus42/podcastReGenerator/blob/main/transcribe_german.ipynb\" target=\"_parent\"><img src=\"https://colab.research.google.com/assets/colab-badge.svg\" alt=\"Open In Colab\"/></a>"
      ]
    },
    {
      "cell_type": "markdown",
      "source": [
        "Audio-Bearbeitung"
      ],
      "metadata": {
        "id": "QtZ7YvrIYlN6"
      }
    },
    {
      "cell_type": "code",
      "source": [
        "!pip install SpeechRecognition"
      ],
      "metadata": {
        "colab": {
          "base_uri": "https://localhost:8080/"
        },
        "id": "hmoCSa46BcwD",
        "outputId": "21360cd2-965f-4fce-d21e-729cea2ed3ed"
      },
      "execution_count": 1,
      "outputs": [
        {
          "output_type": "stream",
          "name": "stdout",
          "text": [
            "Requirement already satisfied: SpeechRecognition in /usr/local/lib/python3.10/dist-packages (3.12.0)\n",
            "Requirement already satisfied: typing-extensions in /usr/local/lib/python3.10/dist-packages (from SpeechRecognition) (4.12.2)\n"
          ]
        }
      ]
    },
    {
      "cell_type": "code",
      "source": [
        "import os"
      ],
      "metadata": {
        "id": "rlwosh5Ek_JI"
      },
      "execution_count": 2,
      "outputs": []
    },
    {
      "cell_type": "code",
      "source": [
        "transcript_path = 'transcript.txt'\n",
        "\n",
        "try:\n",
        "    os.remove(transcript_path)\n",
        "except FileNotFoundError:\n",
        "    # doesn't exist\n",
        "    print(f\"{transcript_path} does not exist\")"
      ],
      "metadata": {
        "id": "acdRXWT7SxjC"
      },
      "execution_count": 3,
      "outputs": []
    },
    {
      "cell_type": "code",
      "execution_count": 4,
      "metadata": {
        "id": "sa01iUyiWN21"
      },
      "outputs": [],
      "source": [
        "import speech_recognition as sr\n",
        "\n",
        "def transcribe_audio(file_path):\n",
        "    recognizer = sr.Recognizer()\n",
        "    with sr.AudioFile(file_path) as source:\n",
        "        audio = recognizer.record(source)\n",
        "    try:\n",
        "        text = recognizer.recognize_google(audio, language='de-DE')\n",
        "        print(\"Transcript: {}\".format(text))\n",
        "        with open(transcript_path, 'a') as file:\n",
        "            file.write(text + \"\\n\")\n",
        "    except sr.UnknownValueError:\n",
        "        print(\"Google Speech Recognition could not understand audio\")\n",
        "    except sr.RequestError as e:\n",
        "        print(\"Could not request results from Google Speech Recognition service; {0}\".format(e))\n",
        "\n"
      ]
    },
    {
      "cell_type": "code",
      "source": [
        "# optional upload from your computer\n",
        "# from google.colab import files\n",
        "# uploaded = files.upload()"
      ],
      "metadata": {
        "id": "Ekxygr3gB_cT"
      },
      "execution_count": 5,
      "outputs": []
    },
    {
      "cell_type": "code",
      "source": [
        "# assign uploaded file to filename\n",
        "# for filename in uploaded.keys():\n",
        "#     print(f'User uploaded file \"{filename}\" with length {len(uploaded[filename])} bytes')"
      ],
      "metadata": {
        "id": "rseqcOOgG8P7"
      },
      "execution_count": 6,
      "outputs": []
    },
    {
      "cell_type": "code",
      "source": [
        "import requests\n",
        "\n",
        "url = 'https://cdn.julephosting.de/podcasts/1355-lanz-precht/196499-ausgabe-172-syrien-assad-ist-weg-und-jetzt.mp3'\n",
        "response = requests.get(url)\n",
        "\n",
        "filename = 'file.mp3'\n",
        "\n",
        "with open(filename, 'wb') as file:\n",
        "    file.write(response.content)\n",
        "\n",
        "print('Download complete!')"
      ],
      "metadata": {
        "colab": {
          "base_uri": "https://localhost:8080/"
        },
        "id": "FGrBtc2gxGuc",
        "outputId": "76d9c88b-dcd2-4fae-f2fe-7f9c0d9f5ab4"
      },
      "execution_count": 7,
      "outputs": [
        {
          "output_type": "stream",
          "name": "stdout",
          "text": [
            "Download complete!\n"
          ]
        }
      ]
    },
    {
      "cell_type": "code",
      "source": [
        "!pip install pydub"
      ],
      "metadata": {
        "colab": {
          "base_uri": "https://localhost:8080/"
        },
        "id": "TKEae2UPC6Vb",
        "outputId": "52fad181-41ac-44d6-82e8-afd4882dc72f"
      },
      "execution_count": 8,
      "outputs": [
        {
          "output_type": "stream",
          "name": "stdout",
          "text": [
            "Requirement already satisfied: pydub in /usr/local/lib/python3.10/dist-packages (0.25.1)\n"
          ]
        }
      ]
    },
    {
      "cell_type": "code",
      "source": [
        "from pydub import AudioSegment\n",
        "\n",
        "def convert_mp3_to_wav(mp3_file_path, wav_file_path):\n",
        "    # Load the MP3 file\n",
        "    audio = AudioSegment.from_mp3(mp3_file_path)\n",
        "\n",
        "    # Export as WAV\n",
        "    audio.export(wav_file_path, format=\"wav\")\n",
        "    print(f\"Successfully converted {mp3_file_path} to {wav_file_path}\")\n"
      ],
      "metadata": {
        "id": "h2voi3gXIba6"
      },
      "execution_count": 9,
      "outputs": []
    },
    {
      "cell_type": "code",
      "source": [
        "convert_mp3_to_wav(filename, \"output.wav\")"
      ],
      "metadata": {
        "colab": {
          "base_uri": "https://localhost:8080/"
        },
        "id": "L2LdnCp7Idly",
        "outputId": "6071c77b-da97-4b86-e3c2-5dcc777ceeed"
      },
      "execution_count": 10,
      "outputs": [
        {
          "output_type": "stream",
          "name": "stdout",
          "text": [
            "Successfully converted file.mp3 to output.wav\n"
          ]
        }
      ]
    },
    {
      "cell_type": "code",
      "source": [
        "def process_wav_in_chunks(audiofile, chunk_length_ms=60000):\n",
        "    # Load the WAV file\n",
        "    audio = AudioSegment.from_wav(audiofile)\n",
        "\n",
        "    # Calculate the number of chunks\n",
        "    num_chunks = len(audio) // chunk_length_ms\n",
        "    interleave = 3000\n",
        "\n",
        "    for i in range(num_chunks + 1):\n",
        "        start_time = i * chunk_length_ms\n",
        "        end_time = start_time + chunk_length_ms\n",
        "\n",
        "        interleave_start_time = start_time\n",
        "        if i > 0 :\n",
        "          interleave_start_time = start_time - interleave\n",
        "\n",
        "        print(f\"Processing chunk {i} of {num_chunks} from {interleave_start_time}ms to {end_time}ms\")\n",
        "        chunk = audio[interleave_start_time:end_time]\n",
        "        chunk.export(f\"chunk_{i}.wav\", format=\"wav\")\n",
        "        transcribe_audio(f\"chunk_{i}.wav\")\n",
        "\n",
        "    for i in range(num_chunks + 1):\n",
        "        try:\n",
        "            os.remove(f\"chunk_{i}.wav\")\n",
        "        except FileNotFoundError:\n",
        "            # doesn't exist\n",
        "            print(f\"chunk_{i}.wav does not exist\")\n",
        ""
      ],
      "metadata": {
        "id": "pr-SzMW2L1oS"
      },
      "execution_count": 11,
      "outputs": []
    },
    {
      "cell_type": "code",
      "source": [
        "process_wav_in_chunks(\"output.wav\")"
      ],
      "metadata": {
        "colab": {
          "base_uri": "https://localhost:8080/"
        },
        "id": "2OlmgoPxL5RJ",
        "outputId": "d9ecdee7-3414-4c75-a284-f3cfe39e1b36"
      },
      "execution_count": null,
      "outputs": [
        {
          "output_type": "stream",
          "name": "stdout",
          "text": [
            "Processing chunk 0 of 52 from 0ms to 60000ms\n",
            "Transcript: Lanz und Brecht schönen guten Morgen Richard guten Morgen Markus Richard Ende des Jahres und das Weltgeschehen geht weiter ich würde heute gerne mit dir über Syrien sprechen über das was wir dann Bildern gesehen haben über diese Nachrichten über die Geschichten die wir hören das ist zum Teil atemberaubend ich habe das halbe Wochenende damit verbracht und bin ehrlich angefasst mir war nicht klar welche Hölle Syrien wirklich ist und wenn man sich das mal einfach nur in relativ gesicherten Zahlen mal anschaut ein paar Eckdaten ungefähr 3000 Menschen sind mittlerweile aus diesem Folter Gefängnis naja befreit worden\n",
            "Processing chunk 1 of 52 from 57000ms to 120000ms\n",
            "Transcript: Foltergefängnis Signal ja befreit worden 200.000 Menschen werden offenbar noch vermisst allein im Nordosten Kurdengebiet sind aktuell knapp 100000 Menschen vertrieben 14 Millionen Menschen insgesamt sind in diesem Krieg vertrieben worden nach un Schätzungen sind dabei mehr als 300 000 Zivilisten ums Leben gekommen mehr 17 Millionen Menschen in Syrien brauchen dringend humanitäre Hilfe und so weiter und so weiter und ich könnte zum Schluss noch sagen mindestens 5000 dieser Folteropfer also tot gefolterte Menschen und wir reden von Frauen Kindern Männern einmal querbeet hat das Regime selber dokumentiert das wissen wir durch die dieser Fotos durch die Prozesse in Koblenz unter anderem hier in Deutschland was ist ein besonderer Moment war finde ich in der Rechtsprechung dass das hier auf deutschem Boden verhandelt wurde Koblenz einmal schnell erklärt weil es wirklich besonders ist\n",
            "Processing chunk 2 of 52 from 117000ms to 180000ms\n",
            "Transcript: wirklich besonders ist 2022 ein weltweit einmaliges Verfahren vor dem Oberlandesgericht in Koblenz da wurde an war er so oder immer genannt angeklagt weil er in einem Gefängnis des syrischen Geheimdienstes für die Folter tausender Menschen für 27 Morde und vieles mehr verantwortlich gewesen sein soll also genau einer dieser Folterknechte und die Frage warum wird ein syrisches Verbrechen in Koblenz ausgeteilt und vollstreckt das hat zu tun mit einem besonderen Verfahren ein Verfahren das auf dem sogenannten weltrechtsprinzip beruht die Grundidee ist dass bestimmte Verbrechen so gravierend sind das universelle Werte verletzt werden und dann darf sozusagen jedes Land tätig werden um im Namen der Weltgemeinschaft das zu ahnen das hat ein bisschen was Richard von kannst Universalismus finden kannst Universalismus sondern es hat viel von den Prinzipien der UNO was aber auch wiederum und das gehört zum ganzen Bild dazu\n",
            "Processing chunk 3 of 52 from 177000ms to 240000ms\n",
            "Transcript: auch wiederum und das gehört zum ganzen Bild dazu vom Regime propagandistisch genutzt wurde man hat gesagt schaut mal ihr lauft über ihr geht nach Deutschland und dann stellen sie euch dafür dort vor Gericht die haben sich ins Fäustchen gelacht über die Rechtsprechung hier bei uns was geht dir durch den Kopf Richard wenn du Syrien hörst wir haben schon ein paar mal das Thema gestreift aber sind niemals so richtig in die Tiefe gegangen also es ist so viel was wir dazu durch den Kopf geht dass ich echt überlegen muss in welcher Reihenfolge ich damit anfangen möchte also zunächst mal sind das Bilder die mir irgendwie bekannt vorkommen ja ein Diktator wird gestürzt man sieht die Bilder der Gefängnisse man hört immer mehr Zeugen die von von Gräueltaten berichten von den Schattenseiten dieses Regimes das war jetzt ziemlich ähnlich beim Sturz von seinem Hussein das war auch ähnliche meine anderen abgeräumt und Diktatoren dass man dahinter die\n",
            "Processing chunk 4 of 52 from 237000ms to 300000ms\n",
            "Transcript: Diktatoren dass man da hinter die Kulissen guckt und das dann all diejenigen die Stimme bekommen die unterdrückt worden sind gefoltert worden sind deren Angehörige verschleppt und umgebracht worden sind und das ist ja auch ein ganz ganz wichtiger Moment gerade aus der Sicht des syrischen Volkes das seinen Aufklärungsarbeit geleistet wird und das Licht in das Dunkel und in die Abgründe einer solchen Herrschaft gebracht werden das ist der eine Punkt und natürlich sind das ja verstörende Bilder und noch sehr sehr verstörend die Dinge die man da erfährt ich bin 1984 zu Ende ist die international gegangen und habe damals eine ganze Menge ziemlich eigentlich mehr als ich damals als 19-Jähriger verkraften konnte erfahren über Volker Praktiken in Gefängnissen auch und unter anderem in der arabischen Welt und das sind natürlich alles so Erinnerungen und Bildern in diesem Moment in mir aufschreiben was hast du da gemacht Richard wir haben uns leider für dich für viele Dinge interessiert mein Schwerpunkt lag jetzt nicht auf Syrien der lag damals auf der Jugoslawien seinen Zeitpunkt als noch keine\n",
            "Processing chunk 5 of 52 from 297000ms to 360000ms\n",
            "Transcript: Jugoslawien zu einem Zeitpunkt als noch keine Ahnung konnte das wenige Jahre später die große Barbarei dort beginnen würde und mir im Nachhinein auch etwas deutlicher geworden sind warum damals die Leute zu solchen irrsinnig hohen Haftstrafen verurteilt wurden für relativ kleine in Anführungszeichen Delikte die sie begangen haben sollen der Tito hat sich und auch seine Nachfolger haben sich enorm vor dem Islamismus gefürchtet gerade der Bosnier und der Mann den ich da unter anderem vertreten habe Reininger Mitstreiter von alia ist im späteren wenn es in der Präsidentin oder Premierminister oder Präsidenten wie auch immer man das nennt in Bosnien und der also vorher ein radikaler Islamist gewesen war und ein Anhänger toller\n",
            "Processing chunk 6 of 52 from 357000ms to 420000ms\n",
            "Transcript: Bilder unschöne kann man sich wie man sich vorstellen kann und Erinnerungen die in dem Moment unter anderem in mir aufgestiegen sind aber sicher auch eine Menge andere Gedanken was sind denn die Gedanken die dich im Augenblick am stärksten umtreiben zunächst mal interessiert und ich habe am Wochenende länger telefoniert mit Bente Scheller ich weiß nicht ob du sie kennst Dich endlich wie Christine Hellberg sehr sehr schätze weil sie sehr wie soll man sagen sehr ruhig aber unglaublich kenntnisreich ihre Arbeit macht Leiterin Referaten aus bei der Grünen Heinrich Böll-Stiftung die ich einmal in der Sendung erlebt habe und die mir sehr genau erklärt hat warum diese Diktatur nach 13 Jahren ja seit dem Beginn der Revolution 2011 warum die gestürzt ist und sie beschreibt auch in einem Text von ihr denn nicht gelesen habe wie sehr diese Familie hat dieses Syrien wie den Privatbesitz der Familie behandelt hat ja also wenn du da reingefahren bist dann\n",
            "Processing chunk 7 of 52 from 417000ms to 480000ms\n",
            "Transcript: also wenn du da rein gefahren bist dann begrüßt du dich an Schild am Flughafen in Damaskus willkommen in Ersatz Syrien nicht willkommen in Syrien willkommen in Ersatz Syrien ja das heißt seit 1970 als der Vater Hafis al-Assad übernommen hat und nach dessen Tote im Jahr 2000 sein Sohn über die haben im Grunde Syrien wie ihren Privatbesitz behandelt und im Grunde war die Idee entweder Assad oder wir brennen das ganze Land nieder ja dass das haben die auch teilweise als Graffitis hinterlassen Soldaten von Assad haben das anwende gesprüht und so weiter das heißt war klar entweder ihr kennt euch zu uns oder wir brennen das ganze Land nieder es gab sozusagen keine Alternative und was den Song dieser Machthaber besonders entfacht hat 2011 war offensichtlich die Tatsache dass diese Proteste und das ist sehr interessant auch nach Monaten friedlich geblieben sind er hatte\n",
            "Processing chunk 8 of 52 from 477000ms to 540000ms\n",
            "Transcript: Monaten friedlich geblieben sind er hatte dagegen Hunderttausende auf die Straße und skandierten immer dieses semi Sylvie friedlich friedlicher und das ist diese Demonstranten gewagt haben nicht nur gegen die Korruption und für den Sturz dieses Regimes zu protestieren sondern vor allen Dingen für ihre eigene würde das ist das was mich in dem Zusammenhang tatsächlich am meisten berührt hat weil es natürlich konterkariert hat sozusagen die Erzählung dieses Regimes so nach dem Motto das sind ja alles Terroristen ja das sind alles Terroristen die da draußen unterwegs sind und deswegen müssen wir mit denen so umgehen und es gibt in dem Zusammenhang und das hat mir bitte schneller schon mal vor Wochen oder Monaten in einem Hintergrundgespräch erzählt es gab den Fall haben sie auch verdient 13 Jahre alter Junge das verschleppt worden keiner wusste wohin und nach zwei Wochen haben sie dann seine aufgequollene Leiche mit schwer zu ertragen verstümmelten Genitalien gebrochenen Armen\n",
            "Processing chunk 9 of 52 from 537000ms to 600000ms\n",
            "Transcript: Genitalien gebrochenen Armen Augen raus gestochen und so weiter einfach der Familie übergeben und haben dann noch behauptet die Familie habe den selber so zugerichtet weil sie irgendwie Aufmerksamkeit wollte in die Presse wollte und so weiter es ist aber bewiesen dass ist das Regime war weil dieser Junge und das ist sozusagen die Verbindung nach Deutschland auch auf diesen Fotos zu sehen ist auf diesen Folter Fotos die in Koblenz jetzt vor Gericht verhandelt worden sind das heißt er hat dieses Kind 2 Wochen lang schlimmste Dinge durchlebt und dann Alleine zu sterben und bitte schneller sagt das war sozusagen die rote Linie also so ging es los 2011 sagt der Erwachsene drangsalieren okay Kinder das ist die rote Linie und sie hat mir erzählt sie hat Eltern dort mal gefragt wie haltet ihr das eigentlich aus warum brennt ihr vermutlich das ganze Land nieder und die Antwort war wir tun es nicht weil wir noch mehr Kinder haben und\n",
            "Processing chunk 10 of 52 from 597000ms to 660000ms\n",
            "Transcript: gib mir noch mehr Kinder haben und das ist dieses Thema dass man irgendwie verstehen muss glaube ich wenn man begreifen will wo diese Proteste es gibt noch viele viele mehr ihren Anfang nehmen danach so diese zynische Haltung dieses Regime so nach dem Motto pass auf also wir bringen jetzt auch eure Kinder um aber im Zweifel habt ihr ja noch weitere Kinder und wenn nicht dann macht die eben neue Kinder so wurde das den Leuten gesagt und wenn ihr nicht wisst wie das geht dann zeigen wir euch wie das geht also dieser ganze perfide zunächst muss der da drin ist und das ist sozusagen einmal nur erzählt um zu verstehen was das für eine Atmosphäre der Angst gewesen sein muss in der Menschen in Syrien gelebt haben also du hast von 2011 gesprochen du hast davon gesprochen wie dieser Krieg losging und von roten Linien in der Zeit des arabischen Frühlings der ja zunächst mal in Tunesien begonnen hatte und in Ägypten und kurz bevor es in Syrien losgehen hatte ich\n",
            "Processing chunk 11 of 52 from 657000ms to 720000ms\n",
            "Transcript: der kurz bevor es in Syrien losging hatte ich ein langes intensives privates Gespräch mit Frank-Walter Steinmeier wir hatten vorher gemeinsam eine Veranstaltung gemacht wo es um was ganz anderes ging und saßen dann nachher noch sehr lange zusammen und sprachen über den arabischen Frühling und ich fragte ihn unter anderem was denn in Syrien los sein was da passiert und das war noch bevor die die Rebellion in Syrien begann also die Ereignisse von denen du gerade gesprochen hast und da sagte Frank Walter Steinmeier in Syrien darf nichts passieren ja und zwar aus folgender Erklärung heraus er sagte wenn du dir die Machtverhältnisse in Syrien anschaust wenn du siehst dass Assad und seine Formulierung war wie das Fettauge auf der Suppe schwimmt und die verschiedenen macht Interessen in diesem Land auszubalancieren die seine Macht Stützen nämlich die Macht von zwei Militär Organisationen und drei Geheimdienst Organisation und darüber hinaus als alle\n",
            "Processing chunk 12 of 52 from 717000ms to 780000ms\n"
          ]
        }
      ]
    },
    {
      "cell_type": "code",
      "source": [
        "# Open the file in read mode and print its contents\n",
        "with open(transcript_path, 'r') as file:\n",
        "    content = file.read()\n",
        "    print(content)\n"
      ],
      "metadata": {
        "id": "-sXRxVhLTF9p"
      },
      "execution_count": null,
      "outputs": []
    },
    {
      "cell_type": "code",
      "source": [
        "def get_last_words(line):\n",
        "    words = line.split()\n",
        "    return words[-3:]"
      ],
      "metadata": {
        "id": "ZoVPCoJQu_kx"
      },
      "execution_count": null,
      "outputs": []
    },
    {
      "cell_type": "code",
      "source": [
        "def get_first_words(line):\n",
        "    words = line.split()\n",
        "    return words[:10]"
      ],
      "metadata": {
        "id": "RivuYW3xwzOl"
      },
      "execution_count": null,
      "outputs": []
    },
    {
      "cell_type": "code",
      "source": [
        "transcript_stripped_path = 'transcript_stripped.txt'\n",
        "\n",
        "try:\n",
        "    os.remove(transcript_stripped_path)\n",
        "except FileNotFoundError:\n",
        "    # doesn't exist\n",
        "    print(f\"{transcript_stripped_path} does not exist\")"
      ],
      "metadata": {
        "id": "pZg97DN35OF_"
      },
      "execution_count": null,
      "outputs": []
    },
    {
      "cell_type": "code",
      "source": [
        "# for each line, take the last token and find it at the beginning of the next line\n",
        "# the beginning of the line are the first 10 tokens\n",
        "# delete everything before the occurrence of the token in the next line\n",
        "# if the last token of the line is not found, search similarly with the preceding token\n",
        "# try this with the last three words of the previous line\n",
        "with open(transcript_path) as file_in:\n",
        "    lines = []\n",
        "    previousline = \"\"\n",
        "\n",
        "    for line in file_in:\n",
        "        # print('processing line ' + line)\n",
        "        lastwords = get_last_words(previousline)\n",
        "        firstwords = get_first_words(line)\n",
        "\n",
        "        for word in lastwords:\n",
        "            if firstwords.count(word) > 0 :\n",
        "                index = line.find(word)\n",
        "                line = line[index + len(word):]\n",
        "                # print('match on word : ' + word)\n",
        "                # print('resulting line : ' + line)\n",
        "\n",
        "        lines.append(line)\n",
        "        with open(transcript_stripped_path, 'a') as file:\n",
        "            file.write(line + \"\\n\")\n",
        "        # print('processed  line ' + line)\n",
        "\n",
        "        previousline = line\n",
        ""
      ],
      "metadata": {
        "id": "46cwCDlOYPk2"
      },
      "execution_count": null,
      "outputs": []
    },
    {
      "cell_type": "code",
      "source": [
        "# Open the file that is stripped from the overlapping words in read mode and print its contents\n",
        "with open(transcript_stripped_path, 'r') as file:\n",
        "    content = file.read()\n",
        "    print(content)"
      ],
      "metadata": {
        "id": "uoAHOkoW5xof"
      },
      "execution_count": null,
      "outputs": []
    }
  ]
}