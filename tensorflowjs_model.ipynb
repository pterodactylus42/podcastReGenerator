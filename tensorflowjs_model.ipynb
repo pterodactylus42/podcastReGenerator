{
  "nbformat": 4,
  "nbformat_minor": 0,
  "metadata": {
    "colab": {
      "provenance": [],
      "authorship_tag": "ABX9TyND4M6CdBaPSlTpaZ+bv9Xd",
      "include_colab_link": true
    },
    "kernelspec": {
      "name": "python3",
      "display_name": "Python 3"
    },
    "language_info": {
      "name": "python"
    }
  },
  "cells": [
    {
      "cell_type": "markdown",
      "metadata": {
        "id": "view-in-github",
        "colab_type": "text"
      },
      "source": [
        "<a href=\"https://colab.research.google.com/github/pterodactylus42/textReGenerator/blob/main/tensorflowjs_model.ipynb\" target=\"_parent\"><img src=\"https://colab.research.google.com/assets/colab-badge.svg\" alt=\"Open In Colab\"/></a>"
      ]
    },
    {
      "cell_type": "code",
      "execution_count": null,
      "metadata": {
        "id": "EL7dcsK-7zTO"
      },
      "outputs": [],
      "source": [
        "# generate a graph model:\n",
        "# tensorflowjs_converter --input_format=tf_saved_model --output_format=tfjs_graph_model --saved_model_tags=serve /path/to/saved_model /path/to/web_model"
      ]
    },
    {
      "cell_type": "code",
      "source": [
        "# generate a layers model:\n",
        "# tensorflowjs_converter --input_format=tf_saved_model --output_format=tfjs_layers_model --saved_model_tags=serve etah.model web/data/etah_model"
      ],
      "metadata": {
        "id": "HNVvWg_H78oH"
      },
      "execution_count": null,
      "outputs": []
    }
  ]
}