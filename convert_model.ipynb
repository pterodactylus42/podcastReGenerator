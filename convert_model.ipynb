{
  "nbformat": 4,
  "nbformat_minor": 0,
  "metadata": {
    "colab": {
      "provenance": [],
      "authorship_tag": "ABX9TyP81+TpAyeB5DVKlqrtHMIw",
      "include_colab_link": true
    },
    "kernelspec": {
      "name": "python3",
      "display_name": "Python 3"
    },
    "language_info": {
      "name": "python"
    }
  },
  "cells": [
    {
      "cell_type": "markdown",
      "metadata": {
        "id": "view-in-github",
        "colab_type": "text"
      },
      "source": [
        "<a href=\"https://colab.research.google.com/github/pterodactylus42/textReGenerator/blob/main/convert_model.ipynb\" target=\"_parent\"><img src=\"https://colab.research.google.com/assets/colab-badge.svg\" alt=\"Open In Colab\"/></a>"
      ]
    },
    {
      "cell_type": "code",
      "execution_count": null,
      "metadata": {
        "id": "o66ATkGM6wed"
      },
      "outputs": [],
      "source": [
        "# !pip install tensorflowjs in the correct runtime, do this only if you know what you are doing!\n",
        "# you might overwrite the correct versions of some tools"
      ]
    },
    {
      "cell_type": "code",
      "source": [
        "from keras.models import load_model\n",
        "\n",
        "model = load_model(\"etah.keras\")\n",
        "model.summary()"
      ],
      "metadata": {
        "id": "FNRJWXI069U2"
      },
      "execution_count": null,
      "outputs": []
    },
    {
      "cell_type": "code",
      "source": [
        "# https://js.tensorflow.org/tutorials/import-keras.html\n",
        "# no recommended way of export, as it's error prone due to version mismatches\n",
        "\n",
        "# import tensorflowjs as tfjs\n",
        "# import numpy as np\n",
        "\n",
        "# tfjs.converters.save_keras_model(model, \"data/model\")"
      ],
      "metadata": {
        "id": "32ggVAfW7CcY"
      },
      "execution_count": null,
      "outputs": []
    },
    {
      "cell_type": "code",
      "source": [
        "model.export(\"etah.full.model\")"
      ],
      "metadata": {
        "id": "sMFnkvZP7E_d"
      },
      "execution_count": null,
      "outputs": []
    },
    {
      "cell_type": "code",
      "source": [
        "import pickle\n",
        "\n",
        "with open(\"word_to_int.etah.pickle\", \"rb\") as file:\n",
        "    word_to_int = pickle.load(file)\n",
        "\n",
        "with open(\"int_to_word.etah.pickle\", \"rb\") as file:\n",
        "    int_to_word = pickle.load(file)"
      ],
      "metadata": {
        "id": "5nSva9-a7IOe"
      },
      "execution_count": null,
      "outputs": []
    },
    {
      "cell_type": "code",
      "source": [
        "l = [value for key, value in int_to_word.items()]\n",
        "\n",
        "# for key, value in int_to_word.items():\n",
        "#     l.append(value)\n",
        "\n",
        "print(l)"
      ],
      "metadata": {
        "id": "QtwDl81O7Mad"
      },
      "execution_count": null,
      "outputs": []
    },
    {
      "cell_type": "code",
      "source": [
        "# len(l)"
      ],
      "metadata": {
        "id": "Tm2z1Hhl7Q2k"
      },
      "execution_count": null,
      "outputs": []
    },
    {
      "cell_type": "code",
      "source": [
        "import json\n",
        "\n",
        "with open(\"data/words.json\", \"w\", encoding=\"utf-8\") as file:\n",
        "    file.write(json.dumps(l))"
      ],
      "metadata": {
        "id": "pSu003zm7UPf"
      },
      "execution_count": null,
      "outputs": []
    }
  ]
}